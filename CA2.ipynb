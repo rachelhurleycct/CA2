{
 "cells": [
  {
   "cell_type": "markdown",
   "id": "e040f29c",
   "metadata": {},
   "source": [
    "# Importing common libraries"
   ]
  },
  {
   "cell_type": "code",
   "execution_count": 1,
   "id": "79156ec8",
   "metadata": {},
   "outputs": [],
   "source": [
    "import pandas as pd\n",
    "import seaborn as sns"
   ]
  },
  {
   "cell_type": "markdown",
   "id": "9db0d6e3",
   "metadata": {},
   "source": [
    "# DF1 - Earning/ Hours worked in Construction in Ireland"
   ]
  },
  {
   "cell_type": "code",
   "execution_count": 2,
   "id": "9c1b1559",
   "metadata": {},
   "outputs": [
    {
     "name": "stdout",
     "output_type": "stream",
     "text": [
      "Collecting package metadata (current_repodata.json): done\n",
      "Solving environment: failed with initial frozen solve. Retrying with flexible solve.\n",
      "Collecting package metadata (repodata.json): done\n",
      "Solving environment: failed with initial frozen solve. Retrying with flexible solve.\n",
      "\n",
      "PackagesNotFoundError: The following packages are not available from current channels:\n",
      "\n",
      "  - pyjstat\n",
      "\n",
      "Current channels:\n",
      "\n",
      "  - https://conda.anaconda.org/conda-forge/osx-64\n",
      "  - https://conda.anaconda.org/conda-forge/noarch\n",
      "  - https://repo.anaconda.com/pkgs/main/osx-64\n",
      "  - https://repo.anaconda.com/pkgs/main/noarch\n",
      "  - https://repo.anaconda.com/pkgs/r/osx-64\n",
      "  - https://repo.anaconda.com/pkgs/r/noarch\n",
      "\n",
      "To search for alternate channels that may provide the conda package you're\n",
      "looking for, navigate to\n",
      "\n",
      "    https://anaconda.org\n",
      "\n",
      "and use the search bar at the top of the page.\n",
      "\n",
      "\n"
     ]
    }
   ],
   "source": [
    "##JSON file format\n",
    "\n",
    "!conda install pyjstat"
   ]
  },
  {
   "cell_type": "code",
   "execution_count": 3,
   "id": "1f7b0e8d",
   "metadata": {},
   "outputs": [
    {
     "name": "stderr",
     "output_type": "stream",
     "text": [
      "Generic exception: Traceback (most recent call last):\n",
      "  File \"/Users/seankearney/opt/anaconda3/lib/python3.9/site-packages/urllib3/connectionpool.py\", line 703, in urlopen\n",
      "    httplib_response = self._make_request(\n",
      "  File \"/Users/seankearney/opt/anaconda3/lib/python3.9/site-packages/urllib3/connectionpool.py\", line 386, in _make_request\n",
      "    self._validate_conn(conn)\n",
      "  File \"/Users/seankearney/opt/anaconda3/lib/python3.9/site-packages/urllib3/connectionpool.py\", line 1042, in _validate_conn\n",
      "    conn.connect()\n",
      "  File \"/Users/seankearney/opt/anaconda3/lib/python3.9/site-packages/urllib3/connection.py\", line 414, in connect\n",
      "    self.sock = ssl_wrap_socket(\n",
      "  File \"/Users/seankearney/opt/anaconda3/lib/python3.9/site-packages/urllib3/util/ssl_.py\", line 449, in ssl_wrap_socket\n",
      "    ssl_sock = _ssl_wrap_socket_impl(\n",
      "  File \"/Users/seankearney/opt/anaconda3/lib/python3.9/site-packages/urllib3/util/ssl_.py\", line 493, in _ssl_wrap_socket_impl\n",
      "    return ssl_context.wrap_socket(sock, server_hostname=server_hostname)\n",
      "  File \"/Users/seankearney/opt/anaconda3/lib/python3.9/ssl.py\", line 501, in wrap_socket\n",
      "    return self.sslsocket_class._create(\n",
      "  File \"/Users/seankearney/opt/anaconda3/lib/python3.9/ssl.py\", line 1041, in _create\n",
      "    self.do_handshake()\n",
      "  File \"/Users/seankearney/opt/anaconda3/lib/python3.9/ssl.py\", line 1310, in do_handshake\n",
      "    self._sslobj.do_handshake()\n",
      "ssl.SSLCertVerificationError: [SSL: CERTIFICATE_VERIFY_FAILED] certificate verify failed: unable to get local issuer certificate (_ssl.c:1129)\n",
      "\n",
      "During handling of the above exception, another exception occurred:\n",
      "\n",
      "Traceback (most recent call last):\n",
      "  File \"/Users/seankearney/opt/anaconda3/lib/python3.9/site-packages/requests/adapters.py\", line 489, in send\n",
      "    resp = conn.urlopen(\n",
      "  File \"/Users/seankearney/opt/anaconda3/lib/python3.9/site-packages/urllib3/connectionpool.py\", line 787, in urlopen\n",
      "    retries = retries.increment(\n",
      "  File \"/Users/seankearney/opt/anaconda3/lib/python3.9/site-packages/urllib3/util/retry.py\", line 592, in increment\n",
      "    raise MaxRetryError(_pool, url, error or ResponseError(cause))\n",
      "urllib3.exceptions.MaxRetryError: HTTPSConnectionPool(host='ws.cso.ie', port=443): Max retries exceeded with url: /public/api.restful/PxStat.Data.Cube_API.ReadDataset/BDA01/JSON-stat/2.0/en (Caused by SSLError(SSLCertVerificationError(1, '[SSL: CERTIFICATE_VERIFY_FAILED] certificate verify failed: unable to get local issuer certificate (_ssl.c:1129)')))\n",
      "\n",
      "During handling of the above exception, another exception occurred:\n",
      "\n",
      "Traceback (most recent call last):\n",
      "  File \"/Users/seankearney/opt/anaconda3/lib/python3.9/site-packages/pyjstat/pyjstat.py\", line 773, in request\n",
      "    requested_object = requests.get(path, headers=headers, verify=verify)\n",
      "  File \"/Users/seankearney/opt/anaconda3/lib/python3.9/site-packages/requests/api.py\", line 73, in get\n",
      "    return request(\"get\", url, params=params, **kwargs)\n",
      "  File \"/Users/seankearney/opt/anaconda3/lib/python3.9/site-packages/requests/api.py\", line 59, in request\n",
      "    return session.request(method=method, url=url, **kwargs)\n",
      "  File \"/Users/seankearney/opt/anaconda3/lib/python3.9/site-packages/requests/sessions.py\", line 587, in request\n",
      "    resp = self.send(prep, **send_kwargs)\n",
      "  File \"/Users/seankearney/opt/anaconda3/lib/python3.9/site-packages/requests/sessions.py\", line 701, in send\n",
      "    r = adapter.send(request, **kwargs)\n",
      "  File \"/Users/seankearney/opt/anaconda3/lib/python3.9/site-packages/requests/adapters.py\", line 563, in send\n",
      "    raise SSLError(e, request=request)\n",
      "requests.exceptions.SSLError: HTTPSConnectionPool(host='ws.cso.ie', port=443): Max retries exceeded with url: /public/api.restful/PxStat.Data.Cube_API.ReadDataset/BDA01/JSON-stat/2.0/en (Caused by SSLError(SSLCertVerificationError(1, '[SSL: CERTIFICATE_VERIFY_FAILED] certificate verify failed: unable to get local issuer certificate (_ssl.c:1129)')))\n",
      "\n"
     ]
    },
    {
     "ename": "SSLError",
     "evalue": "HTTPSConnectionPool(host='ws.cso.ie', port=443): Max retries exceeded with url: /public/api.restful/PxStat.Data.Cube_API.ReadDataset/BDA01/JSON-stat/2.0/en (Caused by SSLError(SSLCertVerificationError(1, '[SSL: CERTIFICATE_VERIFY_FAILED] certificate verify failed: unable to get local issuer certificate (_ssl.c:1129)')))",
     "output_type": "error",
     "traceback": [
      "\u001b[0;31m---------------------------------------------------------------------------\u001b[0m",
      "\u001b[0;31mSSLCertVerificationError\u001b[0m                  Traceback (most recent call last)",
      "\u001b[0;32m~/opt/anaconda3/lib/python3.9/site-packages/urllib3/connectionpool.py\u001b[0m in \u001b[0;36murlopen\u001b[0;34m(self, method, url, body, headers, retries, redirect, assert_same_host, timeout, pool_timeout, release_conn, chunked, body_pos, **response_kw)\u001b[0m\n\u001b[1;32m    702\u001b[0m             \u001b[0;31m# Make the request on the httplib connection object.\u001b[0m\u001b[0;34m\u001b[0m\u001b[0;34m\u001b[0m\u001b[0m\n\u001b[0;32m--> 703\u001b[0;31m             httplib_response = self._make_request(\n\u001b[0m\u001b[1;32m    704\u001b[0m                 \u001b[0mconn\u001b[0m\u001b[0;34m,\u001b[0m\u001b[0;34m\u001b[0m\u001b[0;34m\u001b[0m\u001b[0m\n",
      "\u001b[0;32m~/opt/anaconda3/lib/python3.9/site-packages/urllib3/connectionpool.py\u001b[0m in \u001b[0;36m_make_request\u001b[0;34m(self, conn, method, url, timeout, chunked, **httplib_request_kw)\u001b[0m\n\u001b[1;32m    385\u001b[0m         \u001b[0;32mtry\u001b[0m\u001b[0;34m:\u001b[0m\u001b[0;34m\u001b[0m\u001b[0;34m\u001b[0m\u001b[0m\n\u001b[0;32m--> 386\u001b[0;31m             \u001b[0mself\u001b[0m\u001b[0;34m.\u001b[0m\u001b[0m_validate_conn\u001b[0m\u001b[0;34m(\u001b[0m\u001b[0mconn\u001b[0m\u001b[0;34m)\u001b[0m\u001b[0;34m\u001b[0m\u001b[0;34m\u001b[0m\u001b[0m\n\u001b[0m\u001b[1;32m    387\u001b[0m         \u001b[0;32mexcept\u001b[0m \u001b[0;34m(\u001b[0m\u001b[0mSocketTimeout\u001b[0m\u001b[0;34m,\u001b[0m \u001b[0mBaseSSLError\u001b[0m\u001b[0;34m)\u001b[0m \u001b[0;32mas\u001b[0m \u001b[0me\u001b[0m\u001b[0;34m:\u001b[0m\u001b[0;34m\u001b[0m\u001b[0;34m\u001b[0m\u001b[0m\n",
      "\u001b[0;32m~/opt/anaconda3/lib/python3.9/site-packages/urllib3/connectionpool.py\u001b[0m in \u001b[0;36m_validate_conn\u001b[0;34m(self, conn)\u001b[0m\n\u001b[1;32m   1041\u001b[0m         \u001b[0;32mif\u001b[0m \u001b[0;32mnot\u001b[0m \u001b[0mgetattr\u001b[0m\u001b[0;34m(\u001b[0m\u001b[0mconn\u001b[0m\u001b[0;34m,\u001b[0m \u001b[0;34m\"sock\"\u001b[0m\u001b[0;34m,\u001b[0m \u001b[0;32mNone\u001b[0m\u001b[0;34m)\u001b[0m\u001b[0;34m:\u001b[0m  \u001b[0;31m# AppEngine might not have  `.sock`\u001b[0m\u001b[0;34m\u001b[0m\u001b[0;34m\u001b[0m\u001b[0m\n\u001b[0;32m-> 1042\u001b[0;31m             \u001b[0mconn\u001b[0m\u001b[0;34m.\u001b[0m\u001b[0mconnect\u001b[0m\u001b[0;34m(\u001b[0m\u001b[0;34m)\u001b[0m\u001b[0;34m\u001b[0m\u001b[0;34m\u001b[0m\u001b[0m\n\u001b[0m\u001b[1;32m   1043\u001b[0m \u001b[0;34m\u001b[0m\u001b[0m\n",
      "\u001b[0;32m~/opt/anaconda3/lib/python3.9/site-packages/urllib3/connection.py\u001b[0m in \u001b[0;36mconnect\u001b[0;34m(self)\u001b[0m\n\u001b[1;32m    413\u001b[0m \u001b[0;34m\u001b[0m\u001b[0m\n\u001b[0;32m--> 414\u001b[0;31m         self.sock = ssl_wrap_socket(\n\u001b[0m\u001b[1;32m    415\u001b[0m             \u001b[0msock\u001b[0m\u001b[0;34m=\u001b[0m\u001b[0mconn\u001b[0m\u001b[0;34m,\u001b[0m\u001b[0;34m\u001b[0m\u001b[0;34m\u001b[0m\u001b[0m\n",
      "\u001b[0;32m~/opt/anaconda3/lib/python3.9/site-packages/urllib3/util/ssl_.py\u001b[0m in \u001b[0;36mssl_wrap_socket\u001b[0;34m(sock, keyfile, certfile, cert_reqs, ca_certs, server_hostname, ssl_version, ciphers, ssl_context, ca_cert_dir, key_password, ca_cert_data, tls_in_tls)\u001b[0m\n\u001b[1;32m    448\u001b[0m     \u001b[0;32mif\u001b[0m \u001b[0msend_sni\u001b[0m\u001b[0;34m:\u001b[0m\u001b[0;34m\u001b[0m\u001b[0;34m\u001b[0m\u001b[0m\n\u001b[0;32m--> 449\u001b[0;31m         ssl_sock = _ssl_wrap_socket_impl(\n\u001b[0m\u001b[1;32m    450\u001b[0m             \u001b[0msock\u001b[0m\u001b[0;34m,\u001b[0m \u001b[0mcontext\u001b[0m\u001b[0;34m,\u001b[0m \u001b[0mtls_in_tls\u001b[0m\u001b[0;34m,\u001b[0m \u001b[0mserver_hostname\u001b[0m\u001b[0;34m=\u001b[0m\u001b[0mserver_hostname\u001b[0m\u001b[0;34m\u001b[0m\u001b[0;34m\u001b[0m\u001b[0m\n",
      "\u001b[0;32m~/opt/anaconda3/lib/python3.9/site-packages/urllib3/util/ssl_.py\u001b[0m in \u001b[0;36m_ssl_wrap_socket_impl\u001b[0;34m(sock, ssl_context, tls_in_tls, server_hostname)\u001b[0m\n\u001b[1;32m    492\u001b[0m     \u001b[0;32mif\u001b[0m \u001b[0mserver_hostname\u001b[0m\u001b[0;34m:\u001b[0m\u001b[0;34m\u001b[0m\u001b[0;34m\u001b[0m\u001b[0m\n\u001b[0;32m--> 493\u001b[0;31m         \u001b[0;32mreturn\u001b[0m \u001b[0mssl_context\u001b[0m\u001b[0;34m.\u001b[0m\u001b[0mwrap_socket\u001b[0m\u001b[0;34m(\u001b[0m\u001b[0msock\u001b[0m\u001b[0;34m,\u001b[0m \u001b[0mserver_hostname\u001b[0m\u001b[0;34m=\u001b[0m\u001b[0mserver_hostname\u001b[0m\u001b[0;34m)\u001b[0m\u001b[0;34m\u001b[0m\u001b[0;34m\u001b[0m\u001b[0m\n\u001b[0m\u001b[1;32m    494\u001b[0m     \u001b[0;32melse\u001b[0m\u001b[0;34m:\u001b[0m\u001b[0;34m\u001b[0m\u001b[0;34m\u001b[0m\u001b[0m\n",
      "\u001b[0;32m~/opt/anaconda3/lib/python3.9/ssl.py\u001b[0m in \u001b[0;36mwrap_socket\u001b[0;34m(self, sock, server_side, do_handshake_on_connect, suppress_ragged_eofs, server_hostname, session)\u001b[0m\n\u001b[1;32m    500\u001b[0m         \u001b[0;31m# ctx._wrap_socket()\u001b[0m\u001b[0;34m\u001b[0m\u001b[0;34m\u001b[0m\u001b[0m\n\u001b[0;32m--> 501\u001b[0;31m         return self.sslsocket_class._create(\n\u001b[0m\u001b[1;32m    502\u001b[0m             \u001b[0msock\u001b[0m\u001b[0;34m=\u001b[0m\u001b[0msock\u001b[0m\u001b[0;34m,\u001b[0m\u001b[0;34m\u001b[0m\u001b[0;34m\u001b[0m\u001b[0m\n",
      "\u001b[0;32m~/opt/anaconda3/lib/python3.9/ssl.py\u001b[0m in \u001b[0;36m_create\u001b[0;34m(cls, sock, server_side, do_handshake_on_connect, suppress_ragged_eofs, server_hostname, context, session)\u001b[0m\n\u001b[1;32m   1040\u001b[0m                         \u001b[0;32mraise\u001b[0m \u001b[0mValueError\u001b[0m\u001b[0;34m(\u001b[0m\u001b[0;34m\"do_handshake_on_connect should not be specified for non-blocking sockets\"\u001b[0m\u001b[0;34m)\u001b[0m\u001b[0;34m\u001b[0m\u001b[0;34m\u001b[0m\u001b[0m\n\u001b[0;32m-> 1041\u001b[0;31m                     \u001b[0mself\u001b[0m\u001b[0;34m.\u001b[0m\u001b[0mdo_handshake\u001b[0m\u001b[0;34m(\u001b[0m\u001b[0;34m)\u001b[0m\u001b[0;34m\u001b[0m\u001b[0;34m\u001b[0m\u001b[0m\n\u001b[0m\u001b[1;32m   1042\u001b[0m             \u001b[0;32mexcept\u001b[0m \u001b[0;34m(\u001b[0m\u001b[0mOSError\u001b[0m\u001b[0;34m,\u001b[0m \u001b[0mValueError\u001b[0m\u001b[0;34m)\u001b[0m\u001b[0;34m:\u001b[0m\u001b[0;34m\u001b[0m\u001b[0;34m\u001b[0m\u001b[0m\n",
      "\u001b[0;32m~/opt/anaconda3/lib/python3.9/ssl.py\u001b[0m in \u001b[0;36mdo_handshake\u001b[0;34m(self, block)\u001b[0m\n\u001b[1;32m   1309\u001b[0m                 \u001b[0mself\u001b[0m\u001b[0;34m.\u001b[0m\u001b[0msettimeout\u001b[0m\u001b[0;34m(\u001b[0m\u001b[0;32mNone\u001b[0m\u001b[0;34m)\u001b[0m\u001b[0;34m\u001b[0m\u001b[0;34m\u001b[0m\u001b[0m\n\u001b[0;32m-> 1310\u001b[0;31m             \u001b[0mself\u001b[0m\u001b[0;34m.\u001b[0m\u001b[0m_sslobj\u001b[0m\u001b[0;34m.\u001b[0m\u001b[0mdo_handshake\u001b[0m\u001b[0;34m(\u001b[0m\u001b[0;34m)\u001b[0m\u001b[0;34m\u001b[0m\u001b[0;34m\u001b[0m\u001b[0m\n\u001b[0m\u001b[1;32m   1311\u001b[0m         \u001b[0;32mfinally\u001b[0m\u001b[0;34m:\u001b[0m\u001b[0;34m\u001b[0m\u001b[0;34m\u001b[0m\u001b[0m\n",
      "\u001b[0;31mSSLCertVerificationError\u001b[0m: [SSL: CERTIFICATE_VERIFY_FAILED] certificate verify failed: unable to get local issuer certificate (_ssl.c:1129)",
      "\nDuring handling of the above exception, another exception occurred:\n",
      "\u001b[0;31mMaxRetryError\u001b[0m                             Traceback (most recent call last)",
      "\u001b[0;32m~/opt/anaconda3/lib/python3.9/site-packages/requests/adapters.py\u001b[0m in \u001b[0;36msend\u001b[0;34m(self, request, stream, timeout, verify, cert, proxies)\u001b[0m\n\u001b[1;32m    488\u001b[0m             \u001b[0;32mif\u001b[0m \u001b[0;32mnot\u001b[0m \u001b[0mchunked\u001b[0m\u001b[0;34m:\u001b[0m\u001b[0;34m\u001b[0m\u001b[0;34m\u001b[0m\u001b[0m\n\u001b[0;32m--> 489\u001b[0;31m                 resp = conn.urlopen(\n\u001b[0m\u001b[1;32m    490\u001b[0m                     \u001b[0mmethod\u001b[0m\u001b[0;34m=\u001b[0m\u001b[0mrequest\u001b[0m\u001b[0;34m.\u001b[0m\u001b[0mmethod\u001b[0m\u001b[0;34m,\u001b[0m\u001b[0;34m\u001b[0m\u001b[0;34m\u001b[0m\u001b[0m\n",
      "\u001b[0;32m~/opt/anaconda3/lib/python3.9/site-packages/urllib3/connectionpool.py\u001b[0m in \u001b[0;36murlopen\u001b[0;34m(self, method, url, body, headers, retries, redirect, assert_same_host, timeout, pool_timeout, release_conn, chunked, body_pos, **response_kw)\u001b[0m\n\u001b[1;32m    786\u001b[0m \u001b[0;34m\u001b[0m\u001b[0m\n\u001b[0;32m--> 787\u001b[0;31m             retries = retries.increment(\n\u001b[0m\u001b[1;32m    788\u001b[0m                 \u001b[0mmethod\u001b[0m\u001b[0;34m,\u001b[0m \u001b[0murl\u001b[0m\u001b[0;34m,\u001b[0m \u001b[0merror\u001b[0m\u001b[0;34m=\u001b[0m\u001b[0me\u001b[0m\u001b[0;34m,\u001b[0m \u001b[0m_pool\u001b[0m\u001b[0;34m=\u001b[0m\u001b[0mself\u001b[0m\u001b[0;34m,\u001b[0m \u001b[0m_stacktrace\u001b[0m\u001b[0;34m=\u001b[0m\u001b[0msys\u001b[0m\u001b[0;34m.\u001b[0m\u001b[0mexc_info\u001b[0m\u001b[0;34m(\u001b[0m\u001b[0;34m)\u001b[0m\u001b[0;34m[\u001b[0m\u001b[0;36m2\u001b[0m\u001b[0;34m]\u001b[0m\u001b[0;34m\u001b[0m\u001b[0;34m\u001b[0m\u001b[0m\n",
      "\u001b[0;32m~/opt/anaconda3/lib/python3.9/site-packages/urllib3/util/retry.py\u001b[0m in \u001b[0;36mincrement\u001b[0;34m(self, method, url, response, error, _pool, _stacktrace)\u001b[0m\n\u001b[1;32m    591\u001b[0m         \u001b[0;32mif\u001b[0m \u001b[0mnew_retry\u001b[0m\u001b[0;34m.\u001b[0m\u001b[0mis_exhausted\u001b[0m\u001b[0;34m(\u001b[0m\u001b[0;34m)\u001b[0m\u001b[0;34m:\u001b[0m\u001b[0;34m\u001b[0m\u001b[0;34m\u001b[0m\u001b[0m\n\u001b[0;32m--> 592\u001b[0;31m             \u001b[0;32mraise\u001b[0m \u001b[0mMaxRetryError\u001b[0m\u001b[0;34m(\u001b[0m\u001b[0m_pool\u001b[0m\u001b[0;34m,\u001b[0m \u001b[0murl\u001b[0m\u001b[0;34m,\u001b[0m \u001b[0merror\u001b[0m \u001b[0;32mor\u001b[0m \u001b[0mResponseError\u001b[0m\u001b[0;34m(\u001b[0m\u001b[0mcause\u001b[0m\u001b[0;34m)\u001b[0m\u001b[0;34m)\u001b[0m\u001b[0;34m\u001b[0m\u001b[0;34m\u001b[0m\u001b[0m\n\u001b[0m\u001b[1;32m    593\u001b[0m \u001b[0;34m\u001b[0m\u001b[0m\n",
      "\u001b[0;31mMaxRetryError\u001b[0m: HTTPSConnectionPool(host='ws.cso.ie', port=443): Max retries exceeded with url: /public/api.restful/PxStat.Data.Cube_API.ReadDataset/BDA01/JSON-stat/2.0/en (Caused by SSLError(SSLCertVerificationError(1, '[SSL: CERTIFICATE_VERIFY_FAILED] certificate verify failed: unable to get local issuer certificate (_ssl.c:1129)')))",
      "\nDuring handling of the above exception, another exception occurred:\n",
      "\u001b[0;31mSSLError\u001b[0m                                  Traceback (most recent call last)",
      "\u001b[0;32m/var/folders/1b/33zzxyx55vd7hj0fyh3v6zv80000gn/T/ipykernel_78632/554547821.py\u001b[0m in \u001b[0;36m<module>\u001b[0;34m\u001b[0m\n\u001b[1;32m      3\u001b[0m \u001b[0mrequest_url\u001b[0m \u001b[0;34m=\u001b[0m \u001b[0;34m'https://ws.cso.ie/public/api.restful/PxStat.Data.Cube_API.ReadDataset/BDA01/JSON-stat/2.0/en'\u001b[0m\u001b[0;34m\u001b[0m\u001b[0;34m\u001b[0m\u001b[0m\n\u001b[1;32m      4\u001b[0m \u001b[0;31m# read json data\u001b[0m\u001b[0;34m\u001b[0m\u001b[0;34m\u001b[0m\u001b[0m\n\u001b[0;32m----> 5\u001b[0;31m \u001b[0mdataset\u001b[0m \u001b[0;34m=\u001b[0m \u001b[0mpyjstat\u001b[0m\u001b[0;34m.\u001b[0m\u001b[0mDataset\u001b[0m\u001b[0;34m.\u001b[0m\u001b[0mread\u001b[0m\u001b[0;34m(\u001b[0m\u001b[0mrequest_url\u001b[0m\u001b[0;34m)\u001b[0m\u001b[0;34m\u001b[0m\u001b[0;34m\u001b[0m\u001b[0m\n\u001b[0m\u001b[1;32m      6\u001b[0m \u001b[0;34m\u001b[0m\u001b[0m\n\u001b[1;32m      7\u001b[0m \u001b[0;31m# write to pandas dataframe\u001b[0m\u001b[0;34m\u001b[0m\u001b[0;34m\u001b[0m\u001b[0m\n",
      "\u001b[0;32m~/opt/anaconda3/lib/python3.9/site-packages/pyjstat/pyjstat.py\u001b[0m in \u001b[0;36mread\u001b[0;34m(cls, data, verify, fill_category, **kwargs)\u001b[0m\n\u001b[1;32m    829\u001b[0m                                    \"ftp://\", \"ftps://\"))):\n\u001b[1;32m    830\u001b[0m             \u001b[0;31m# requests will do the rest...\u001b[0m\u001b[0;34m\u001b[0m\u001b[0;34m\u001b[0m\u001b[0m\n\u001b[0;32m--> 831\u001b[0;31m             \u001b[0;32mreturn\u001b[0m \u001b[0mcls\u001b[0m\u001b[0;34m(\u001b[0m\u001b[0mrequest\u001b[0m\u001b[0;34m(\u001b[0m\u001b[0mdata\u001b[0m\u001b[0;34m,\u001b[0m \u001b[0mverify\u001b[0m\u001b[0;34m=\u001b[0m\u001b[0mverify\u001b[0m\u001b[0;34m)\u001b[0m\u001b[0;34m)\u001b[0m\u001b[0;34m\u001b[0m\u001b[0;34m\u001b[0m\u001b[0m\n\u001b[0m\u001b[1;32m    832\u001b[0m         \u001b[0;32melif\u001b[0m \u001b[0misinstance\u001b[0m\u001b[0;34m(\u001b[0m\u001b[0mdata\u001b[0m\u001b[0;34m,\u001b[0m \u001b[0mbasestring\u001b[0m\u001b[0;34m)\u001b[0m\u001b[0;34m:\u001b[0m\u001b[0;34m\u001b[0m\u001b[0;34m\u001b[0m\u001b[0m\n\u001b[1;32m    833\u001b[0m             \u001b[0;32mtry\u001b[0m\u001b[0;34m:\u001b[0m\u001b[0;34m\u001b[0m\u001b[0;34m\u001b[0m\u001b[0m\n",
      "\u001b[0;32m~/opt/anaconda3/lib/python3.9/site-packages/pyjstat/pyjstat.py\u001b[0m in \u001b[0;36mrequest\u001b[0;34m(path, verify)\u001b[0m\n\u001b[1;32m    771\u001b[0m     \u001b[0mheaders\u001b[0m \u001b[0;34m=\u001b[0m \u001b[0;34m{\u001b[0m\u001b[0;34m'Accept'\u001b[0m\u001b[0;34m:\u001b[0m \u001b[0;34m'application/json'\u001b[0m\u001b[0;34m}\u001b[0m\u001b[0;34m\u001b[0m\u001b[0;34m\u001b[0m\u001b[0m\n\u001b[1;32m    772\u001b[0m     \u001b[0;32mtry\u001b[0m\u001b[0;34m:\u001b[0m\u001b[0;34m\u001b[0m\u001b[0;34m\u001b[0m\u001b[0m\n\u001b[0;32m--> 773\u001b[0;31m         \u001b[0mrequested_object\u001b[0m \u001b[0;34m=\u001b[0m \u001b[0mrequests\u001b[0m\u001b[0;34m.\u001b[0m\u001b[0mget\u001b[0m\u001b[0;34m(\u001b[0m\u001b[0mpath\u001b[0m\u001b[0;34m,\u001b[0m \u001b[0mheaders\u001b[0m\u001b[0;34m=\u001b[0m\u001b[0mheaders\u001b[0m\u001b[0;34m,\u001b[0m \u001b[0mverify\u001b[0m\u001b[0;34m=\u001b[0m\u001b[0mverify\u001b[0m\u001b[0;34m)\u001b[0m\u001b[0;34m\u001b[0m\u001b[0;34m\u001b[0m\u001b[0m\n\u001b[0m\u001b[1;32m    774\u001b[0m         \u001b[0mrequested_object\u001b[0m\u001b[0;34m.\u001b[0m\u001b[0mraise_for_status\u001b[0m\u001b[0;34m(\u001b[0m\u001b[0;34m)\u001b[0m\u001b[0;34m\u001b[0m\u001b[0;34m\u001b[0m\u001b[0m\n\u001b[1;32m    775\u001b[0m     \u001b[0;32mexcept\u001b[0m \u001b[0mrequests\u001b[0m\u001b[0;34m.\u001b[0m\u001b[0mexceptions\u001b[0m\u001b[0;34m.\u001b[0m\u001b[0mHTTPError\u001b[0m \u001b[0;32mas\u001b[0m \u001b[0mexception\u001b[0m\u001b[0;34m:\u001b[0m\u001b[0;34m\u001b[0m\u001b[0;34m\u001b[0m\u001b[0m\n",
      "\u001b[0;32m~/opt/anaconda3/lib/python3.9/site-packages/requests/api.py\u001b[0m in \u001b[0;36mget\u001b[0;34m(url, params, **kwargs)\u001b[0m\n\u001b[1;32m     71\u001b[0m     \"\"\"\n\u001b[1;32m     72\u001b[0m \u001b[0;34m\u001b[0m\u001b[0m\n\u001b[0;32m---> 73\u001b[0;31m     \u001b[0;32mreturn\u001b[0m \u001b[0mrequest\u001b[0m\u001b[0;34m(\u001b[0m\u001b[0;34m\"get\"\u001b[0m\u001b[0;34m,\u001b[0m \u001b[0murl\u001b[0m\u001b[0;34m,\u001b[0m \u001b[0mparams\u001b[0m\u001b[0;34m=\u001b[0m\u001b[0mparams\u001b[0m\u001b[0;34m,\u001b[0m \u001b[0;34m**\u001b[0m\u001b[0mkwargs\u001b[0m\u001b[0;34m)\u001b[0m\u001b[0;34m\u001b[0m\u001b[0;34m\u001b[0m\u001b[0m\n\u001b[0m\u001b[1;32m     74\u001b[0m \u001b[0;34m\u001b[0m\u001b[0m\n\u001b[1;32m     75\u001b[0m \u001b[0;34m\u001b[0m\u001b[0m\n",
      "\u001b[0;32m~/opt/anaconda3/lib/python3.9/site-packages/requests/api.py\u001b[0m in \u001b[0;36mrequest\u001b[0;34m(method, url, **kwargs)\u001b[0m\n\u001b[1;32m     57\u001b[0m     \u001b[0;31m# cases, and look like a memory leak in others.\u001b[0m\u001b[0;34m\u001b[0m\u001b[0;34m\u001b[0m\u001b[0m\n\u001b[1;32m     58\u001b[0m     \u001b[0;32mwith\u001b[0m \u001b[0msessions\u001b[0m\u001b[0;34m.\u001b[0m\u001b[0mSession\u001b[0m\u001b[0;34m(\u001b[0m\u001b[0;34m)\u001b[0m \u001b[0;32mas\u001b[0m \u001b[0msession\u001b[0m\u001b[0;34m:\u001b[0m\u001b[0;34m\u001b[0m\u001b[0;34m\u001b[0m\u001b[0m\n\u001b[0;32m---> 59\u001b[0;31m         \u001b[0;32mreturn\u001b[0m \u001b[0msession\u001b[0m\u001b[0;34m.\u001b[0m\u001b[0mrequest\u001b[0m\u001b[0;34m(\u001b[0m\u001b[0mmethod\u001b[0m\u001b[0;34m=\u001b[0m\u001b[0mmethod\u001b[0m\u001b[0;34m,\u001b[0m \u001b[0murl\u001b[0m\u001b[0;34m=\u001b[0m\u001b[0murl\u001b[0m\u001b[0;34m,\u001b[0m \u001b[0;34m**\u001b[0m\u001b[0mkwargs\u001b[0m\u001b[0;34m)\u001b[0m\u001b[0;34m\u001b[0m\u001b[0;34m\u001b[0m\u001b[0m\n\u001b[0m\u001b[1;32m     60\u001b[0m \u001b[0;34m\u001b[0m\u001b[0m\n\u001b[1;32m     61\u001b[0m \u001b[0;34m\u001b[0m\u001b[0m\n",
      "\u001b[0;32m~/opt/anaconda3/lib/python3.9/site-packages/requests/sessions.py\u001b[0m in \u001b[0;36mrequest\u001b[0;34m(self, method, url, params, data, headers, cookies, files, auth, timeout, allow_redirects, proxies, hooks, stream, verify, cert, json)\u001b[0m\n\u001b[1;32m    585\u001b[0m         }\n\u001b[1;32m    586\u001b[0m         \u001b[0msend_kwargs\u001b[0m\u001b[0;34m.\u001b[0m\u001b[0mupdate\u001b[0m\u001b[0;34m(\u001b[0m\u001b[0msettings\u001b[0m\u001b[0;34m)\u001b[0m\u001b[0;34m\u001b[0m\u001b[0;34m\u001b[0m\u001b[0m\n\u001b[0;32m--> 587\u001b[0;31m         \u001b[0mresp\u001b[0m \u001b[0;34m=\u001b[0m \u001b[0mself\u001b[0m\u001b[0;34m.\u001b[0m\u001b[0msend\u001b[0m\u001b[0;34m(\u001b[0m\u001b[0mprep\u001b[0m\u001b[0;34m,\u001b[0m \u001b[0;34m**\u001b[0m\u001b[0msend_kwargs\u001b[0m\u001b[0;34m)\u001b[0m\u001b[0;34m\u001b[0m\u001b[0;34m\u001b[0m\u001b[0m\n\u001b[0m\u001b[1;32m    588\u001b[0m \u001b[0;34m\u001b[0m\u001b[0m\n\u001b[1;32m    589\u001b[0m         \u001b[0;32mreturn\u001b[0m \u001b[0mresp\u001b[0m\u001b[0;34m\u001b[0m\u001b[0;34m\u001b[0m\u001b[0m\n",
      "\u001b[0;32m~/opt/anaconda3/lib/python3.9/site-packages/requests/sessions.py\u001b[0m in \u001b[0;36msend\u001b[0;34m(self, request, **kwargs)\u001b[0m\n\u001b[1;32m    699\u001b[0m \u001b[0;34m\u001b[0m\u001b[0m\n\u001b[1;32m    700\u001b[0m         \u001b[0;31m# Send the request\u001b[0m\u001b[0;34m\u001b[0m\u001b[0;34m\u001b[0m\u001b[0m\n\u001b[0;32m--> 701\u001b[0;31m         \u001b[0mr\u001b[0m \u001b[0;34m=\u001b[0m \u001b[0madapter\u001b[0m\u001b[0;34m.\u001b[0m\u001b[0msend\u001b[0m\u001b[0;34m(\u001b[0m\u001b[0mrequest\u001b[0m\u001b[0;34m,\u001b[0m \u001b[0;34m**\u001b[0m\u001b[0mkwargs\u001b[0m\u001b[0;34m)\u001b[0m\u001b[0;34m\u001b[0m\u001b[0;34m\u001b[0m\u001b[0m\n\u001b[0m\u001b[1;32m    702\u001b[0m \u001b[0;34m\u001b[0m\u001b[0m\n\u001b[1;32m    703\u001b[0m         \u001b[0;31m# Total elapsed time of the request (approximately)\u001b[0m\u001b[0;34m\u001b[0m\u001b[0;34m\u001b[0m\u001b[0m\n",
      "\u001b[0;32m~/opt/anaconda3/lib/python3.9/site-packages/requests/adapters.py\u001b[0m in \u001b[0;36msend\u001b[0;34m(self, request, stream, timeout, verify, cert, proxies)\u001b[0m\n\u001b[1;32m    561\u001b[0m             \u001b[0;32mif\u001b[0m \u001b[0misinstance\u001b[0m\u001b[0;34m(\u001b[0m\u001b[0me\u001b[0m\u001b[0;34m.\u001b[0m\u001b[0mreason\u001b[0m\u001b[0;34m,\u001b[0m \u001b[0m_SSLError\u001b[0m\u001b[0;34m)\u001b[0m\u001b[0;34m:\u001b[0m\u001b[0;34m\u001b[0m\u001b[0;34m\u001b[0m\u001b[0m\n\u001b[1;32m    562\u001b[0m                 \u001b[0;31m# This branch is for urllib3 v1.22 and later.\u001b[0m\u001b[0;34m\u001b[0m\u001b[0;34m\u001b[0m\u001b[0m\n\u001b[0;32m--> 563\u001b[0;31m                 \u001b[0;32mraise\u001b[0m \u001b[0mSSLError\u001b[0m\u001b[0;34m(\u001b[0m\u001b[0me\u001b[0m\u001b[0;34m,\u001b[0m \u001b[0mrequest\u001b[0m\u001b[0;34m=\u001b[0m\u001b[0mrequest\u001b[0m\u001b[0;34m)\u001b[0m\u001b[0;34m\u001b[0m\u001b[0;34m\u001b[0m\u001b[0m\n\u001b[0m\u001b[1;32m    564\u001b[0m \u001b[0;34m\u001b[0m\u001b[0m\n\u001b[1;32m    565\u001b[0m             \u001b[0;32mraise\u001b[0m \u001b[0mConnectionError\u001b[0m\u001b[0;34m(\u001b[0m\u001b[0me\u001b[0m\u001b[0;34m,\u001b[0m \u001b[0mrequest\u001b[0m\u001b[0;34m=\u001b[0m\u001b[0mrequest\u001b[0m\u001b[0;34m)\u001b[0m\u001b[0;34m\u001b[0m\u001b[0;34m\u001b[0m\u001b[0m\n",
      "\u001b[0;31mSSLError\u001b[0m: HTTPSConnectionPool(host='ws.cso.ie', port=443): Max retries exceeded with url: /public/api.restful/PxStat.Data.Cube_API.ReadDataset/BDA01/JSON-stat/2.0/en (Caused by SSLError(SSLCertVerificationError(1, '[SSL: CERTIFICATE_VERIFY_FAILED] certificate verify failed: unable to get local issuer certificate (_ssl.c:1129)')))"
     ]
    }
   ],
   "source": [
    "#from pyjstat import pyjstat\n",
    "\n",
    "#request_url = 'https://ws.cso.ie/public/api.restful/PxStat.Data.Cube_API.ReadDataset/BDA01/JSON-stat/2.0/en'\n",
    "# read json data\n",
    "dataset = pyjstat.Dataset.read(request_url)\n",
    "\n",
    "# write to pandas dataframe\n",
    "#df1 = dataset.write('dataframe')"
   ]
  },
  {
   "cell_type": "code",
   "execution_count": 4,
   "id": "3a6233ef",
   "metadata": {},
   "outputs": [],
   "source": [
    "##Alternative way to the above code, revisit to ensure best option has been chosen.\n",
    "\n",
    "from pyjstat import pyjstat\n",
    "\n",
    "request_url = 'https://ws.cso.ie/public/api.restful/PxStat.Data.Cube_API.PxAPIv1/en/27/EHWC/BDA01?query=%7B%22query%22:%5B%7B%22code%22:%22STATISTIC%22,%22selection%22:%7B%22filter%22:%22item%22,%22values%22:%5B%22BDA01C3%22%5D%7D%7D%5D,%22response%22:%7B%22format%22:%22json-stat2%22,%22pivot%22:null%7D%7D'\n",
    "df = pd.read_json\n",
    "# read json data\n",
    "dataset = pyjstat.Dataset.read(request_url)\n",
    "\n",
    "# write to pandas dataframe\n",
    "df1 = dataset.write('dataframe')"
   ]
  },
  {
   "cell_type": "code",
   "execution_count": 5,
   "id": "00ed32e1",
   "metadata": {},
   "outputs": [
    {
     "data": {
      "text/html": [
       "<div>\n",
       "<style scoped>\n",
       "    .dataframe tbody tr th:only-of-type {\n",
       "        vertical-align: middle;\n",
       "    }\n",
       "\n",
       "    .dataframe tbody tr th {\n",
       "        vertical-align: top;\n",
       "    }\n",
       "\n",
       "    .dataframe thead th {\n",
       "        text-align: right;\n",
       "    }\n",
       "</style>\n",
       "<table border=\"1\" class=\"dataframe\">\n",
       "  <thead>\n",
       "    <tr style=\"text-align: right;\">\n",
       "      <th></th>\n",
       "      <th>Type of Worker</th>\n",
       "      <th>Year</th>\n",
       "      <th>Statistic</th>\n",
       "      <th>value</th>\n",
       "    </tr>\n",
       "  </thead>\n",
       "  <tbody>\n",
       "    <tr>\n",
       "      <th>0</th>\n",
       "      <td>All manual employee grades</td>\n",
       "      <td>1969</td>\n",
       "      <td>Average Hours Worked per Week in the Building ...</td>\n",
       "      <td>NaN</td>\n",
       "    </tr>\n",
       "    <tr>\n",
       "      <th>1</th>\n",
       "      <td>All manual employee grades</td>\n",
       "      <td>1970</td>\n",
       "      <td>Average Hours Worked per Week in the Building ...</td>\n",
       "      <td>NaN</td>\n",
       "    </tr>\n",
       "    <tr>\n",
       "      <th>2</th>\n",
       "      <td>All manual employee grades</td>\n",
       "      <td>1971</td>\n",
       "      <td>Average Hours Worked per Week in the Building ...</td>\n",
       "      <td>NaN</td>\n",
       "    </tr>\n",
       "    <tr>\n",
       "      <th>3</th>\n",
       "      <td>All manual employee grades</td>\n",
       "      <td>1972</td>\n",
       "      <td>Average Hours Worked per Week in the Building ...</td>\n",
       "      <td>NaN</td>\n",
       "    </tr>\n",
       "    <tr>\n",
       "      <th>4</th>\n",
       "      <td>All manual employee grades</td>\n",
       "      <td>1973</td>\n",
       "      <td>Average Hours Worked per Week in the Building ...</td>\n",
       "      <td>NaN</td>\n",
       "    </tr>\n",
       "  </tbody>\n",
       "</table>\n",
       "</div>"
      ],
      "text/plain": [
       "               Type of Worker  Year  \\\n",
       "0  All manual employee grades  1969   \n",
       "1  All manual employee grades  1970   \n",
       "2  All manual employee grades  1971   \n",
       "3  All manual employee grades  1972   \n",
       "4  All manual employee grades  1973   \n",
       "\n",
       "                                           Statistic  value  \n",
       "0  Average Hours Worked per Week in the Building ...    NaN  \n",
       "1  Average Hours Worked per Week in the Building ...    NaN  \n",
       "2  Average Hours Worked per Week in the Building ...    NaN  \n",
       "3  Average Hours Worked per Week in the Building ...    NaN  \n",
       "4  Average Hours Worked per Week in the Building ...    NaN  "
      ]
     },
     "execution_count": 5,
     "metadata": {},
     "output_type": "execute_result"
    }
   ],
   "source": [
    "df1.head()"
   ]
  },
  {
   "cell_type": "code",
   "execution_count": 6,
   "id": "d934298c",
   "metadata": {},
   "outputs": [
    {
     "name": "stdout",
     "output_type": "stream",
     "text": [
      "Statistic\n",
      "Average Hours Worked per Week in the Building and Construction Industry    360\n",
      "dtype: int64\n"
     ]
    }
   ],
   "source": [
    "#To determine the variables in the statistic column.\n",
    "\n",
    "df1label = df1.groupby(by=['Statistic']).size()\n",
    "print(df1label)"
   ]
  },
  {
   "cell_type": "code",
   "execution_count": 7,
   "id": "49f2c901",
   "metadata": {},
   "outputs": [
    {
     "name": "stdout",
     "output_type": "stream",
     "text": [
      "                              Type of Worker  Year  \\\n",
      "0                 All manual employee grades  1969   \n",
      "1                 All manual employee grades  1970   \n",
      "2                 All manual employee grades  1971   \n",
      "3                 All manual employee grades  1972   \n",
      "4                 All manual employee grades  1973   \n",
      "..                                       ...   ...   \n",
      "355  All employees (clerical and operatives)  2004   \n",
      "356  All employees (clerical and operatives)  2005   \n",
      "357  All employees (clerical and operatives)  2006   \n",
      "358  All employees (clerical and operatives)  2007   \n",
      "359  All employees (clerical and operatives)  2008   \n",
      "\n",
      "                                             Statistic  value  \n",
      "0    Average Hours Worked per Week in the Building ...    NaN  \n",
      "1    Average Hours Worked per Week in the Building ...    NaN  \n",
      "2    Average Hours Worked per Week in the Building ...    NaN  \n",
      "3    Average Hours Worked per Week in the Building ...    NaN  \n",
      "4    Average Hours Worked per Week in the Building ...    NaN  \n",
      "..                                                 ...    ...  \n",
      "355  Average Hours Worked per Week in the Building ...   44.1  \n",
      "356  Average Hours Worked per Week in the Building ...   44.1  \n",
      "357  Average Hours Worked per Week in the Building ...   43.9  \n",
      "358  Average Hours Worked per Week in the Building ...   44.0  \n",
      "359  Average Hours Worked per Week in the Building ...   43.2  \n",
      "\n",
      "[360 rows x 4 columns]\n"
     ]
    }
   ],
   "source": [
    "##Dropping the Average weekly earning rows from the dataframe as it already contains hours worked and hourly rate.\n",
    "\n",
    "df1C = df1.drop(df1[df1[\"Statistic\"]==\"Average Earnings per Week in the Building and Construction Industry\"].index)\n",
    "print(df1C)"
   ]
  },
  {
   "cell_type": "code",
   "execution_count": 8,
   "id": "5d25e962",
   "metadata": {},
   "outputs": [
    {
     "data": {
      "text/plain": [
       "Type of Worker     object\n",
       "Year               object\n",
       "Statistic          object\n",
       "value             float64\n",
       "dtype: object"
      ]
     },
     "execution_count": 8,
     "metadata": {},
     "output_type": "execute_result"
    }
   ],
   "source": [
    "df1C.dtypes"
   ]
  },
  {
   "cell_type": "code",
   "execution_count": 9,
   "id": "6edc5351",
   "metadata": {},
   "outputs": [],
   "source": [
    "#Count the number of null values.\n",
    "\n",
    "df1null = df1C.isnull().sum()"
   ]
  },
  {
   "cell_type": "code",
   "execution_count": 10,
   "id": "701d908e",
   "metadata": {},
   "outputs": [
    {
     "data": {
      "text/plain": [
       "Type of Worker      0\n",
       "Year                0\n",
       "Statistic           0\n",
       "value             119\n",
       "dtype: int64"
      ]
     },
     "execution_count": 10,
     "metadata": {},
     "output_type": "execute_result"
    }
   ],
   "source": [
    "df1null"
   ]
  },
  {
   "cell_type": "code",
   "execution_count": 11,
   "id": "714bb313",
   "metadata": {
    "scrolled": true
   },
   "outputs": [
    {
     "name": "stdout",
     "output_type": "stream",
     "text": [
      "Warning: 'conda-forge' already in 'channels' list, moving to the top\n",
      "Collecting package metadata (current_repodata.json): done\n",
      "Solving environment: done\n",
      "\n",
      "\n",
      "==> WARNING: A newer version of conda exists. <==\n",
      "  current version: 22.11.1\n",
      "  latest version: 23.3.1\n",
      "\n",
      "Please update conda by running\n",
      "\n",
      "    $ conda update -n base -c conda-forge conda\n",
      "\n",
      "Or to minimize the number of packages updated during conda update use\n",
      "\n",
      "     conda install conda=23.3.1\n",
      "\n",
      "\n",
      "\n",
      "# All requested packages already installed.\n",
      "\n"
     ]
    }
   ],
   "source": [
    "!conda config --add channels conda-forge\n",
    "!conda install -c conda-forge missingno\n",
    "\n",
    "#ref- https://towardsdatascience.com/visualizing-missing-values-in-python-is-shockingly-easy-56ed5bc2e7ea"
   ]
  },
  {
   "cell_type": "code",
   "execution_count": 12,
   "id": "c4f999c4",
   "metadata": {},
   "outputs": [],
   "source": [
    "import missingno as msno"
   ]
  },
  {
   "cell_type": "code",
   "execution_count": 13,
   "id": "6125e700",
   "metadata": {},
   "outputs": [
    {
     "data": {
      "text/plain": [
       "<AxesSubplot:>"
      ]
     },
     "execution_count": 13,
     "metadata": {},
     "output_type": "execute_result"
    },
    {
     "data": {
      "image/png": "[encoded data removed]",
      "text/plain": [
       "<Figure size 2400x1000 with 3 Axes>"
      ]
     },
     "metadata": {},
     "output_type": "display_data"
    }
   ],
   "source": [
    "#To visualise missing values.All missing values are in the value column\n",
    "\n",
    "msno.bar(df1C)"
   ]
  },
  {
   "cell_type": "code",
   "execution_count": 14,
   "id": "011ae2fe",
   "metadata": {},
   "outputs": [
    {
     "data": {
      "text/plain": [
       "<AxesSubplot:>"
      ]
     },
     "execution_count": 14,
     "metadata": {},
     "output_type": "execute_result"
    },
    {
     "data": {
      "image/png": "[encoded data removed]",
      "text/plain": [
       "<Figure size 2500x1000 with 2 Axes>"
      ]
     },
     "metadata": {},
     "output_type": "display_data"
    }
   ],
   "source": [
    "## Can see there is no pattern to the missing data.\n",
    "\n",
    "msno.matrix(df1C)"
   ]
  },
  {
   "cell_type": "code",
   "execution_count": 15,
   "id": "887a2959",
   "metadata": {},
   "outputs": [],
   "source": [
    "#There are a number of null columns. Drop these columns. \n",
    "\n",
    "df1C.dropna(inplace=True)"
   ]
  },
  {
   "cell_type": "code",
   "execution_count": 16,
   "id": "3beb7cb0",
   "metadata": {},
   "outputs": [
    {
     "data": {
      "text/plain": [
       "Type of Worker    0\n",
       "Year              0\n",
       "Statistic         0\n",
       "value             0\n",
       "dtype: int64"
      ]
     },
     "execution_count": 16,
     "metadata": {},
     "output_type": "execute_result"
    }
   ],
   "source": [
    "df1null = df1C.isnull().sum()\n",
    "df1null"
   ]
  },
  {
   "cell_type": "code",
   "execution_count": 17,
   "id": "3f911797",
   "metadata": {},
   "outputs": [],
   "source": [
    "#Dropping the first 50 rows as they are all 'NaN'\n",
    "\n",
    "df1 = df1.drop(index=df1.index[:51]).reset_index(drop=True)"
   ]
  },
  {
   "cell_type": "code",
   "execution_count": 18,
   "id": "dc0e4a37",
   "metadata": {},
   "outputs": [
    {
     "data": {
      "text/html": [
       "<div>\n",
       "<style scoped>\n",
       "    .dataframe tbody tr th:only-of-type {\n",
       "        vertical-align: middle;\n",
       "    }\n",
       "\n",
       "    .dataframe tbody tr th {\n",
       "        vertical-align: top;\n",
       "    }\n",
       "\n",
       "    .dataframe thead th {\n",
       "        text-align: right;\n",
       "    }\n",
       "</style>\n",
       "<table border=\"1\" class=\"dataframe\">\n",
       "  <thead>\n",
       "    <tr style=\"text-align: right;\">\n",
       "      <th></th>\n",
       "      <th>Type of Worker</th>\n",
       "      <th>Year</th>\n",
       "      <th>Statistic</th>\n",
       "      <th>value</th>\n",
       "    </tr>\n",
       "  </thead>\n",
       "  <tbody>\n",
       "    <tr>\n",
       "      <th>0</th>\n",
       "      <td>Skilled operatives</td>\n",
       "      <td>1980</td>\n",
       "      <td>Average Hours Worked per Week in the Building ...</td>\n",
       "      <td>45.7</td>\n",
       "    </tr>\n",
       "    <tr>\n",
       "      <th>1</th>\n",
       "      <td>Skilled operatives</td>\n",
       "      <td>1981</td>\n",
       "      <td>Average Hours Worked per Week in the Building ...</td>\n",
       "      <td>44.2</td>\n",
       "    </tr>\n",
       "    <tr>\n",
       "      <th>2</th>\n",
       "      <td>Skilled operatives</td>\n",
       "      <td>1982</td>\n",
       "      <td>Average Hours Worked per Week in the Building ...</td>\n",
       "      <td>44.2</td>\n",
       "    </tr>\n",
       "    <tr>\n",
       "      <th>3</th>\n",
       "      <td>Skilled operatives</td>\n",
       "      <td>1983</td>\n",
       "      <td>Average Hours Worked per Week in the Building ...</td>\n",
       "      <td>43.3</td>\n",
       "    </tr>\n",
       "    <tr>\n",
       "      <th>4</th>\n",
       "      <td>Skilled operatives</td>\n",
       "      <td>1984</td>\n",
       "      <td>Average Hours Worked per Week in the Building ...</td>\n",
       "      <td>43.4</td>\n",
       "    </tr>\n",
       "  </tbody>\n",
       "</table>\n",
       "</div>"
      ],
      "text/plain": [
       "       Type of Worker  Year  \\\n",
       "0  Skilled operatives  1980   \n",
       "1  Skilled operatives  1981   \n",
       "2  Skilled operatives  1982   \n",
       "3  Skilled operatives  1983   \n",
       "4  Skilled operatives  1984   \n",
       "\n",
       "                                           Statistic  value  \n",
       "0  Average Hours Worked per Week in the Building ...   45.7  \n",
       "1  Average Hours Worked per Week in the Building ...   44.2  \n",
       "2  Average Hours Worked per Week in the Building ...   44.2  \n",
       "3  Average Hours Worked per Week in the Building ...   43.3  \n",
       "4  Average Hours Worked per Week in the Building ...   43.4  "
      ]
     },
     "execution_count": 18,
     "metadata": {},
     "output_type": "execute_result"
    }
   ],
   "source": [
    "df1.head()"
   ]
  },
  {
   "cell_type": "code",
   "execution_count": null,
   "id": "faaa8316",
   "metadata": {},
   "outputs": [],
   "source": [
    "df1.dtypes"
   ]
  },
  {
   "cell_type": "code",
   "execution_count": null,
   "id": "9d805948",
   "metadata": {},
   "outputs": [],
   "source": [
    "df1null = df1.isnull().sum()"
   ]
  },
  {
   "cell_type": "code",
   "execution_count": null,
   "id": "1e147c56",
   "metadata": {},
   "outputs": [],
   "source": [
    "df1null"
   ]
  },
  {
   "cell_type": "code",
   "execution_count": null,
   "id": "776b89cb",
   "metadata": {},
   "outputs": [],
   "source": [
    "df1.dropna(inplace=True)"
   ]
  },
  {
   "cell_type": "code",
   "execution_count": null,
   "id": "4e0fb3eb",
   "metadata": {},
   "outputs": [],
   "source": [
    "df1.describe"
   ]
  },
  {
   "cell_type": "code",
   "execution_count": null,
   "id": "0518f882",
   "metadata": {},
   "outputs": [],
   "source": [
    "plt.figure(figsize=(10, 8))\n",
    "ax = sns.barplot(x=\"Statistic\", y=\"Year\", data=df1)"
   ]
  },
  {
   "cell_type": "code",
   "execution_count": null,
   "id": "467bc48f",
   "metadata": {},
   "outputs": [],
   "source": [
    "# Generate a bar plot \n",
    "g = sns.catplot('Statistic Label', data=df1, kind=\"count\", aspect=1.5);\n",
    "g.set(title='Count of medals awarded in each of the top sports');"
   ]
  },
  {
   "cell_type": "code",
   "execution_count": null,
   "id": "415e4548",
   "metadata": {},
   "outputs": [],
   "source": [
    "#reverts to the tab - file is .tsv#\n",
    "#The pipe (|) allows multiple seperators \n",
    "#\\t seperating tabs and ',' seperating commas as are in the column 1 \n",
    "\n",
    "df2=pd.read_csv(\"Production_Europe.tsv\",sep=\"\\t|,\", engine='python')"
   ]
  },
  {
   "cell_type": "markdown",
   "id": "42f74be7",
   "metadata": {},
   "source": [
    "#### Default parser for read csv does not support seperators greater than one character. Specifying engine=python above so multiple seperators can be used. Required as file as file contains tab and comma delimiters.  "
   ]
  },
  {
   "cell_type": "code",
   "execution_count": null,
   "id": "9a421498",
   "metadata": {},
   "outputs": [],
   "source": [
    "df2.head()"
   ]
  },
  {
   "cell_type": "code",
   "execution_count": null,
   "id": "6fe11859",
   "metadata": {},
   "outputs": [],
   "source": [
    "df2=df2.drop([\"indic_bt\", \"nace_r2\", \"s_adj\"], axis=1)"
   ]
  },
  {
   "cell_type": "code",
   "execution_count": null,
   "id": "1a7964cf",
   "metadata": {},
   "outputs": [],
   "source": [
    "#Want to keep unit and geo\\time columns the same. Melt the rest of the year columns\n",
    "\n",
    "df2=pd.melt(df2, id_vars=[\"unit\",\"geo\\\\time\"], var_name=\"Year\",\n",
    "          value_name=\"Production\")"
   ]
  },
  {
   "cell_type": "code",
   "execution_count": null,
   "id": "bed1b4f9",
   "metadata": {},
   "outputs": [],
   "source": [
    "#Replacing everything that isn't a number 0 to 9, or a decimal point.\n",
    "#Revisit.\n",
    "df2['Production'] = df2['Production'].str.replace('[^0-9.]+', '', regex=True)\n",
    "\n",
    "#Ref - https://copyprogramming.com/howto/python-pandas-how-to-remove-non-numeric-characters-from-multiple-columns"
   ]
  },
  {
   "cell_type": "code",
   "execution_count": null,
   "id": "8c31b236",
   "metadata": {},
   "outputs": [],
   "source": [
    "df2.info()"
   ]
  },
  {
   "cell_type": "code",
   "execution_count": null,
   "id": "012c8ed9",
   "metadata": {},
   "outputs": [],
   "source": [
    "df2.astype(\"object\").describe()"
   ]
  },
  {
   "cell_type": "code",
   "execution_count": null,
   "id": "f68ba42d",
   "metadata": {},
   "outputs": [],
   "source": [
    "df2.dtypes"
   ]
  },
  {
   "cell_type": "code",
   "execution_count": null,
   "id": "084bf384",
   "metadata": {},
   "outputs": [],
   "source": [
    "#When you melt a numerical column it turns to an object/string and you need to change back to integer. \n",
    "\n",
    "df2[[\"Year\",\"Production\"]]=df2[[\"Year\",\"Production\"]].apply(pd.to_numeric)\n",
    "\n",
    "#Insert Geeks for Geeks ref."
   ]
  },
  {
   "cell_type": "code",
   "execution_count": null,
   "id": "e741e0ed",
   "metadata": {},
   "outputs": [],
   "source": [
    "df2.dtypes"
   ]
  },
  {
   "cell_type": "code",
   "execution_count": null,
   "id": "8bb7cc13",
   "metadata": {},
   "outputs": [],
   "source": [
    "import numpy as np\n",
    "\n",
    "#Need to remove all white space to address the unavailable values.\n",
    "df2 = df2.apply(lambda x: x.str.strip() if x.dtype == \"object\" else x)\n",
    "\n",
    "#Replace the ':' vale with NaN. \n",
    "df2 = df2.replace(':', np.nan)\n",
    "\n",
    "#Ref - https://stackoverflow.com/questions/33788913/pythonic-efficient-way-to-strip-whitespace-from-every-pandas-data-frame-cell-tha"
   ]
  },
  {
   "cell_type": "code",
   "execution_count": null,
   "id": "261ece3b",
   "metadata": {},
   "outputs": [],
   "source": [
    "df2"
   ]
  },
  {
   "cell_type": "code",
   "execution_count": null,
   "id": "e13cf3d5",
   "metadata": {},
   "outputs": [],
   "source": [
    "ax = sns.histplot(df2.Production, kde=True)\n",
    "ax.set(xlabel='Production', ylabel='Production', title ='Production Histogram')"
   ]
  },
  {
   "cell_type": "code",
   "execution_count": null,
   "id": "e8250f39",
   "metadata": {},
   "outputs": [],
   "source": [
    "df2.dropna(inplace=True)"
   ]
  },
  {
   "cell_type": "code",
   "execution_count": null,
   "id": "b9ae38e8",
   "metadata": {},
   "outputs": [],
   "source": [
    "df2"
   ]
  },
  {
   "cell_type": "code",
   "execution_count": null,
   "id": "befbd4e2",
   "metadata": {},
   "outputs": [],
   "source": [
    "#Determine whether dropping the NaN values affects the distribution of the data\n",
    "\n",
    "ax = sns.histplot(df2.Production)\n",
    "ax.set(xlabel='Production', ylabel='Production', title ='Production Histogram')"
   ]
  },
  {
   "cell_type": "code",
   "execution_count": null,
   "id": "c6de5613",
   "metadata": {},
   "outputs": [],
   "source": [
    "df3=pd.read_csv(\"national_house_construction_cost_index_0.csv\")"
   ]
  },
  {
   "cell_type": "code",
   "execution_count": null,
   "id": "5ea8e3d3",
   "metadata": {},
   "outputs": [],
   "source": [
    "df3.head()"
   ]
  },
  {
   "cell_type": "code",
   "execution_count": null,
   "id": "393f9e14",
   "metadata": {},
   "outputs": [],
   "source": [
    "#Setting the first row of the table to column 2.\n",
    "\n",
    "df3=pd.read_csv(\"national_house_construction_cost_index_0.csv\", header=2)"
   ]
  },
  {
   "cell_type": "code",
   "execution_count": null,
   "id": "003819b9",
   "metadata": {},
   "outputs": [],
   "source": [
    "df3.head()"
   ]
  },
  {
   "cell_type": "code",
   "execution_count": null,
   "id": "65174bca",
   "metadata": {
    "scrolled": true
   },
   "outputs": [],
   "source": [
    "df3.dtypes"
   ]
  },
  {
   "cell_type": "code",
   "execution_count": null,
   "id": "c901565c",
   "metadata": {},
   "outputs": [],
   "source": [
    "df3_transposed = df3.set_index('Month').T"
   ]
  },
  {
   "cell_type": "code",
   "execution_count": null,
   "id": "b7a9ce81",
   "metadata": {},
   "outputs": [],
   "source": [
    "df3_transposed"
   ]
  },
  {
   "cell_type": "code",
   "execution_count": null,
   "id": "7646aa90",
   "metadata": {},
   "outputs": [],
   "source": [
    "df3_transposed=df3_transposed.drop([\"2016\"], axis=0)"
   ]
  },
  {
   "cell_type": "code",
   "execution_count": null,
   "id": "703130a4",
   "metadata": {},
   "outputs": [],
   "source": [
    "#After transposing the data, all data types show as objects.\n",
    "#To converted to floats = \n",
    "#including the line 'errors=coerce' converts the non numeric values to NaN. \n",
    "\n",
    "for col in df3_transposed.columns[0:13]:\n",
    "    df3_transposed[col] = pd.to_numeric(df3_transposed[col])"
   ]
  },
  {
   "cell_type": "code",
   "execution_count": null,
   "id": "4964d57a",
   "metadata": {},
   "outputs": [],
   "source": [
    "df3_transposed.dtypes"
   ]
  },
  {
   "cell_type": "code",
   "execution_count": null,
   "id": "29e7a4bd",
   "metadata": {},
   "outputs": [],
   "source": [
    "#Determine whether dropping the NaN values affects the distribution of the data\n",
    "\n",
    "ax = sns.histplot(df3_transposed['Yearly average'])\n",
    "ax.set(xlabel='Yearly Average', ylabel='Production', title ='Production Histogram')"
   ]
  },
  {
   "cell_type": "code",
   "execution_count": null,
   "id": "fc5246d1",
   "metadata": {},
   "outputs": [],
   "source": [
    "df5=pd.read_csv(\"download1061915290288055378.csv\")"
   ]
  },
  {
   "cell_type": "code",
   "execution_count": null,
   "id": "d34b6cff",
   "metadata": {},
   "outputs": [],
   "source": [
    "df5"
   ]
  },
  {
   "cell_type": "code",
   "execution_count": null,
   "id": "4d3d16f4",
   "metadata": {},
   "outputs": [],
   "source": [
    "df5.tail()"
   ]
  },
  {
   "cell_type": "code",
   "execution_count": null,
   "id": "909c35fe",
   "metadata": {},
   "outputs": [],
   "source": [
    "df5 = df5.drop([\"FeatureCode\",\"Measurement\",\"Units\"], axis=1)"
   ]
  },
  {
   "cell_type": "code",
   "execution_count": null,
   "id": "d679bf98",
   "metadata": {},
   "outputs": [],
   "source": [
    "df5.head()"
   ]
  },
  {
   "cell_type": "code",
   "execution_count": null,
   "id": "86285011",
   "metadata": {},
   "outputs": [],
   "source": [
    "df5.dtypes"
   ]
  },
  {
   "cell_type": "code",
   "execution_count": null,
   "id": "c72c34ee",
   "metadata": {},
   "outputs": [],
   "source": [
    "df5.sort_values(by=[\"DateCode\"], inplace=True)"
   ]
  },
  {
   "cell_type": "code",
   "execution_count": null,
   "id": "0e53b6e8",
   "metadata": {},
   "outputs": [],
   "source": [
    "df5"
   ]
  },
  {
   "cell_type": "code",
   "execution_count": null,
   "id": "f9a3fcd5",
   "metadata": {},
   "outputs": [],
   "source": [
    "df6=pd.read_csv(\"BBA02.20230428105548.csv\")"
   ]
  },
  {
   "cell_type": "code",
   "execution_count": null,
   "id": "be7600a6",
   "metadata": {},
   "outputs": [],
   "source": [
    "df6.head()"
   ]
  },
  {
   "cell_type": "code",
   "execution_count": null,
   "id": "b53a502a",
   "metadata": {},
   "outputs": [],
   "source": [
    "df7=pd.read_csv(\"Labourinput_Europe.tsv\",sep=\"\\t|,\", engine='python')\n",
    "#reverts to the tab - file is .tsv#"
   ]
  },
  {
   "cell_type": "code",
   "execution_count": null,
   "id": "ead33d94",
   "metadata": {},
   "outputs": [],
   "source": [
    "df7.head()"
   ]
  },
  {
   "cell_type": "code",
   "execution_count": null,
   "id": "7bd4dbb8",
   "metadata": {},
   "outputs": [],
   "source": [
    "df7=df7.drop([\"indic_bt\", \"nace_r2\", \"s_adj\"], axis=1)"
   ]
  },
  {
   "cell_type": "code",
   "execution_count": null,
   "id": "4bdab7da",
   "metadata": {},
   "outputs": [],
   "source": [
    "df7.head()"
   ]
  },
  {
   "cell_type": "code",
   "execution_count": null,
   "id": "d9ee55e6",
   "metadata": {},
   "outputs": [],
   "source": [
    "df7m=df7.melt(id_vars=[\"geo\\\\time\", \"unit\"], \n",
    "        var_name=\"Year\", \n",
    "        value_name=\"Labour Input\")"
   ]
  },
  {
   "cell_type": "code",
   "execution_count": null,
   "id": "2ea8704d",
   "metadata": {},
   "outputs": [],
   "source": [
    "import numpy as np\n",
    "\n",
    "#Need to remove all white space to address the unavailable values.\n",
    "df7m= df7m.apply(lambda x: x.str.strip() if x.dtype == \"object\" else x)\n",
    "\n",
    "#Replace the ':' vale with NaN. \n",
    "df7m = df7m.replace(':', np.nan)\n",
    "\n",
    "#Ref - https://stackoverflow.com/questions/33788913/pythonic-efficient-way-to-strip-whitespace-from-every-pandas-data-frame-cell-tha"
   ]
  },
  {
   "cell_type": "code",
   "execution_count": null,
   "id": "46ee32a4",
   "metadata": {},
   "outputs": [],
   "source": [
    "df7m"
   ]
  },
  {
   "cell_type": "code",
   "execution_count": null,
   "id": "6c7aa565",
   "metadata": {},
   "outputs": [],
   "source": [
    "#Replacing everything that isn't a number 0 to 9, or a decimal point.\n",
    "#Revisit.\n",
    "\n",
    "df7m= df7m.apply(lambda x: x.str.replace('[^0-9.]+', '', regex=True) if x.dtype == \"object\" else x)\n",
    "\n",
    "#Ref - https://copyprogramming.com/howto/python-pandas-how-to-remove-non-numeric-characters-from-multiple-columns"
   ]
  },
  {
   "cell_type": "code",
   "execution_count": null,
   "id": "dfe50a54",
   "metadata": {},
   "outputs": [],
   "source": [
    "import plotly.graph_objects as go"
   ]
  },
  {
   "cell_type": "markdown",
   "id": "18a05e43",
   "metadata": {},
   "source": [
    "#fig = go.Figure(\n",
    "    data=go.Choropleth(\n",
    "        locations=df7m[\"geo\\\\time\"],\n",
    "        z=df7m[\"Labour Input\"].astype(int),\n",
    "        locationmode=\"World\",\n",
    "        colorscale='Blues',\n",
    "        colorbar_title=\"Labour Input\"\n",
    "    )\n",
    ")\n",
    "\n",
    "#fig.update_layout(\n",
    "#title_text=\"US Population across states\",\n",
    "geo_scope=\"world\")\n",
    "\n",
    "fig.show()"
   ]
  },
  {
   "cell_type": "code",
   "execution_count": null,
   "id": "8b21d84c",
   "metadata": {},
   "outputs": [],
   "source": [
    "df8=pd.read_csv(\"PriceIndex_BuildingConstruction_Materials_Ireland.csv\")"
   ]
  },
  {
   "cell_type": "code",
   "execution_count": null,
   "id": "cf6c818f",
   "metadata": {},
   "outputs": [],
   "source": [
    "df8.tail()"
   ]
  },
  {
   "cell_type": "code",
   "execution_count": null,
   "id": "f6be2810",
   "metadata": {},
   "outputs": [],
   "source": [
    "df8=df8.drop([\"STATISTIC\", \"TLIST(A1)\", \"C01409V03262\"], axis=1)"
   ]
  },
  {
   "cell_type": "code",
   "execution_count": null,
   "id": "385eba57",
   "metadata": {},
   "outputs": [],
   "source": [
    "df8"
   ]
  },
  {
   "cell_type": "code",
   "execution_count": null,
   "id": "96110786",
   "metadata": {},
   "outputs": [],
   "source": [
    "# split the column by comma and create new columns for each variable\n",
    "df8[['Price_Index', '%Change']] = df8['Statstic Label'].str.split(',', expand=True)\n",
    "\n",
    "# drop the original column\n",
    "df8.drop('Statistic Label', axis=1, inplace=True)\n",
    "\n",
    "print(df8)"
   ]
  },
  {
   "cell_type": "code",
   "execution_count": null,
   "id": "90de31b2",
   "metadata": {},
   "outputs": [],
   "source": [
    "sns.scatterplot(x=df8['Hour'], y=internet_dataframe['VALUE'], hue=df8['Type of Material'] )"
   ]
  },
  {
   "cell_type": "code",
   "execution_count": null,
   "id": "58fabc74",
   "metadata": {},
   "outputs": [],
   "source": [
    "df9=pd.read_csv(\"Purchases_BuildingConstruction_New Basis_Ireland.csv\")"
   ]
  },
  {
   "cell_type": "code",
   "execution_count": null,
   "id": "a7b7efd2",
   "metadata": {},
   "outputs": [],
   "source": [
    "df9.head()"
   ]
  },
  {
   "cell_type": "code",
   "execution_count": null,
   "id": "18d49701",
   "metadata": {},
   "outputs": [],
   "source": [
    "df9.tail()"
   ]
  },
  {
   "cell_type": "code",
   "execution_count": null,
   "id": "dec9167f",
   "metadata": {},
   "outputs": [],
   "source": [
    "df9.info()"
   ]
  },
  {
   "cell_type": "code",
   "execution_count": null,
   "id": "988ec5e0",
   "metadata": {},
   "outputs": [],
   "source": [
    "df9.describe(include=\"all\")"
   ]
  },
  {
   "cell_type": "code",
   "execution_count": null,
   "id": "82e86f71",
   "metadata": {},
   "outputs": [],
   "source": [
    "df9=df9.drop([\"STATISTIC\",\"C02407V02905\", \"C01989V02424\", \"Statistic Label\", \"TLIST(A1)\"], axis=1)"
   ]
  },
  {
   "cell_type": "code",
   "execution_count": null,
   "id": "baade64c",
   "metadata": {},
   "outputs": [],
   "source": [
    "df9.head()"
   ]
  },
  {
   "cell_type": "code",
   "execution_count": null,
   "id": "44702b3b",
   "metadata": {},
   "outputs": [],
   "source": [
    "#Global construction empoyment numbers in thousand persons.\n",
    "\n",
    "df10 = pd.read_csv(\"Global_Con_Employment.csv\")"
   ]
  },
  {
   "cell_type": "code",
   "execution_count": null,
   "id": "ce4c4acf",
   "metadata": {},
   "outputs": [],
   "source": [
    "df10.head()"
   ]
  },
  {
   "cell_type": "code",
   "execution_count": null,
   "id": "37f2f2fd",
   "metadata": {},
   "outputs": [],
   "source": [
    "## Indicator, subject and frequency contain the same values for all rows. \n",
    "##Flag codes column contains all NaNs so is of no value. Drop these rows.\n",
    "\n",
    "df10=df10.drop([\"INDICATOR\",\"SUBJECT\", \"FREQUENCY\", \"Flag Codes\"], axis=1)"
   ]
  },
  {
   "cell_type": "code",
   "execution_count": null,
   "id": "7a786518",
   "metadata": {},
   "outputs": [],
   "source": [
    "df10.head(20)"
   ]
  },
  {
   "cell_type": "code",
   "execution_count": null,
   "id": "a2392a35",
   "metadata": {},
   "outputs": [],
   "source": [
    "#To look at the non numeric columns, include=\"all\".\n",
    "#This shows the unit of measure is the same for each row. There is 44 unique locations included.\n",
    "\n",
    "df10.describe(include=\"all\")"
   ]
  },
  {
   "cell_type": "code",
   "execution_count": null,
   "id": "250518da",
   "metadata": {},
   "outputs": [],
   "source": [
    "import matplotlib.pyplot as plt"
   ]
  },
  {
   "cell_type": "code",
   "execution_count": null,
   "id": "c6fa25bb",
   "metadata": {},
   "outputs": [],
   "source": [
    "#heat map to see the correlation between different variables.\n",
    "\n",
    "def feature_interactions(df10,feature1, feature2,continuous_col):\n",
    "    group = df10.groupby([feature1,feature2],as_index=False)[continuous_col].mean().reset_index(drop=True)\n",
    "\n",
    "    pivot = group.pivot(index=feature1, columns=feature2, values=continuous_col)\n",
    "    pivot.fillna(0, inplace=True)\n",
    "    plt.figure(figsize=(10,6)) #size of the plot.\n",
    "    sns.heatmap(pivot,cmap='Greens')\n",
    "    plt.show()\n",
    "\n",
    "feature_interactions(df10,'LOCATION','TIME','Value')"
   ]
  },
  {
   "cell_type": "code",
   "execution_count": null,
   "id": "b6168bd9",
   "metadata": {},
   "outputs": [],
   "source": [
    "# Using seaborn to create a box plot.\n",
    "fig, ax = plt.subplots(figsize=(10, 5))\n",
    "sns.boxplot(x='TIME', y='Value', data=df10, ax=ax).set(title='Year vs Number of Construction Workers')\n",
    "\n",
    "ax.set_ylabel('Number of Construction Workers')\n",
    "\n",
    "# rotate the x-axis labels\n",
    "ax.set_xticklabels(ax.get_xticklabels(), rotation=45)\n",
    "\n",
    "# specifying the y-axis limits\n",
    "ax.set_ylim(0, 4500)\n",
    "\n",
    "plt.show()"
   ]
  },
  {
   "cell_type": "code",
   "execution_count": null,
   "id": "44b875f5",
   "metadata": {},
   "outputs": [],
   "source": [
    "mean = df10['Value'].mean()\n",
    "\n",
    "print(mean)"
   ]
  },
  {
   "cell_type": "code",
   "execution_count": null,
   "id": "970f39c8",
   "metadata": {},
   "outputs": [],
   "source": [
    "median = df10['Value'].median()\n",
    "\n",
    "print(median)"
   ]
  },
  {
   "cell_type": "markdown",
   "id": "10f54770",
   "metadata": {},
   "source": [
    "mean > median therefore the data should be positively skewed when plotted."
   ]
  },
  {
   "cell_type": "code",
   "execution_count": null,
   "id": "a2a015f4",
   "metadata": {},
   "outputs": [],
   "source": [
    "data = df10['Value']\n",
    "\n",
    "sns.distplot(data, bins=10, hist=True, kde=True, label = 'No. of Construction Workers (Thousands)')"
   ]
  },
  {
   "cell_type": "markdown",
   "id": "206a5cf9",
   "metadata": {},
   "source": [
    "Can conclude the number of construction workers is positively skewed.\n",
    "Ref - https://gist.github.com/pb111/512c840affb32593d28573fbb764045b"
   ]
  },
  {
   "cell_type": "code",
   "execution_count": null,
   "id": "b4923093",
   "metadata": {},
   "outputs": [],
   "source": []
  }
 ],
 "metadata": {
  "kernelspec": {
   "display_name": "Python 3 (ipykernel)",
   "language": "python",
   "name": "python3"
  },
  "language_info": {
   "codemirror_mode": {
    "name": "ipython",
    "version": 3
   },
   "file_extension": ".py",
   "mimetype": "text/x-python",
   "name": "python",
   "nbconvert_exporter": "python",
   "pygments_lexer": "ipython3",
   "version": "3.9.13"
  }
 },
 "nbformat": 4,
 "nbformat_minor": 5
}
